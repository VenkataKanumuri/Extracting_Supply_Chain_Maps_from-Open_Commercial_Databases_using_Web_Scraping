{
 "cells": [
  {
   "cell_type": "code",
   "execution_count": 5,
   "id": "fdb4cae8",
   "metadata": {},
   "outputs": [],
   "source": [
    "import pandas as pd\n",
    "cleaned_data_df = pd.read_excel(\"Cleaned_data1.xlsx\")"
   ]
  },
  {
   "cell_type": "markdown",
   "id": "8ec2fca5",
   "metadata": {},
   "source": [
    "Creating Nodes worksheet"
   ]
  },
  {
   "cell_type": "code",
   "execution_count": 6,
   "id": "2617a96a",
   "metadata": {},
   "outputs": [],
   "source": [
    "all_nodes = set(cleaned_data_df['name'].tolist() + cleaned_data_df['Product'].tolist() + cleaned_data_df['Alternative_companies'].tolist())\n",
    "\n",
    "new_nodes_df = pd.DataFrame({'name': list(all_nodes)})\n",
    "new_nodes_df['Example Numerical Attribute Name'] = 1  # Placeholder numerical attribute\n",
    "\n",
    "# Identify types of nodes based on the data\n",
    "new_nodes_df['Type'] = 'Alternative Suppliers'  \n",
    "new_nodes_df.loc[new_nodes_df['name'].isin(cleaned_data_df['name'].tolist()), 'Type'] = 'Initial Suppliers'\n",
    "new_nodes_df.loc[new_nodes_df['name'].isin(cleaned_data_df['Product'].tolist()), 'Type'] = 'Industry Segments'\n"
   ]
  },
  {
   "cell_type": "markdown",
   "id": "5d15a22f",
   "metadata": {},
   "source": [
    "Creating Edges worksheet"
   ]
  },
  {
   "cell_type": "code",
   "execution_count": 7,
   "id": "e9415659",
   "metadata": {},
   "outputs": [],
   "source": [
    "# Edges from central to branch nodes (company names to products)\n",
    "central_to_branch_edges = cleaned_data_df[['name', 'Product']].drop_duplicates().rename(columns={'name': 'Source', 'Product': 'Target'})\n",
    "\n",
    "# Edges from branch to leaf nodes (products to alternative companies)\n",
    "branch_to_leaf_edges = cleaned_data_df[['Product', 'Alternative_companies']].drop_duplicates().rename(columns={'Product': 'Source', 'Alternative_companies': 'Target'})\n",
    "\n",
    "# Combining all edges into a single dataframe\n",
    "edges_df = pd.concat([central_to_branch_edges, branch_to_leaf_edges])"
   ]
  },
  {
   "cell_type": "code",
   "execution_count": 8,
   "id": "956a7c94",
   "metadata": {},
   "outputs": [],
   "source": [
    "output_filepath_corrected_v4 = \"Network_Data_withAlternativeSuppliers.xlsx\"\n",
    "with pd.ExcelWriter(output_filepath_corrected_v4, engine='xlsxwriter') as writer:\n",
    "    new_nodes_df.to_excel(writer, sheet_name='Nodes', index=False)\n",
    "    edges_df[['Source', 'Target']].to_excel(writer, sheet_name='Edges', index=False)"
   ]
  },
  {
   "cell_type": "code",
   "execution_count": null,
   "id": "4dfa7303",
   "metadata": {},
   "outputs": [],
   "source": []
  }
 ],
 "metadata": {
  "kernelspec": {
   "display_name": "Python 3 (ipykernel)",
   "language": "python",
   "name": "python3"
  },
  "language_info": {
   "codemirror_mode": {
    "name": "ipython",
    "version": 3
   },
   "file_extension": ".py",
   "mimetype": "text/x-python",
   "name": "python",
   "nbconvert_exporter": "python",
   "pygments_lexer": "ipython3",
   "version": "3.9.12"
  }
 },
 "nbformat": 4,
 "nbformat_minor": 5
}
