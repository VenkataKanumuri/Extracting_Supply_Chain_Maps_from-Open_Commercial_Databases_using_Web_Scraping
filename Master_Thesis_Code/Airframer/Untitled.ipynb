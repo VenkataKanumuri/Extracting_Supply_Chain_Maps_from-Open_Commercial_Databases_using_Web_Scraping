{
 "cells": [
  {
   "cell_type": "code",
   "execution_count": 8,
   "id": "491b06bc",
   "metadata": {},
   "outputs": [],
   "source": [
    "import pandas as pd\n",
    "\n",
    "# Step 1: Identify the correct delimiter for the CSV file\n",
    "def identify_delimiter(file_path):\n",
    "    with open(file_path, 'r') as file:\n",
    "        first_line = file.readline()\n",
    "        if ';' in first_line:\n",
    "            return ';'\n",
    "        elif ',' in first_line:\n",
    "            return ','\n",
    "        else:\n",
    "            raise ValueError(\"Unknown delimiter\")\n",
    "\n",
    "delimiter = identify_delimiter(\"Airframer.csv\")\n",
    "\n",
    "# Step 2: Load the data using the identified delimiter\n",
    "data = pd.read_csv(\"Airframer.csv\", delimiter=delimiter)\n",
    "\n",
    "# Step 3: Generate nodes and edges DataFrames\n",
    "\n",
    "# Create a list of unique suppliers and companies\n",
    "suppliers = data['Supplier'].unique().tolist()\n",
    "companies = data['Company'].unique().tolist()\n",
    "\n",
    "# Combine both lists\n",
    "all_nodes = suppliers + companies\n",
    "\n",
    "# Create a DataFrame for nodes\n",
    "nodes_df = pd.DataFrame({\n",
    "    'Id': all_nodes,\n",
    "    'Label': all_nodes\n",
    "})\n",
    "\n",
    "# Create edges DataFrame\n",
    "edges_df = data[['Supplier', 'Company', 'Product']]\n",
    "edges_df.columns = ['Source', 'Target', 'Product']\n",
    "\n",
    "# Step 4: Save the DataFrames to CSV files\n",
    "nodes_file_path = \"nodes.csv\"\n",
    "edges_file_path = \"edges.csv\"\n",
    "\n",
    "nodes_df.to_csv(nodes_file_path, index=False)\n",
    "edges_df.to_csv(edges_file_path, index=False)\n"
   ]
  },
  {
   "cell_type": "code",
   "execution_count": 7,
   "id": "0bb76aec",
   "metadata": {},
   "outputs": [
    {
     "name": "stdout",
     "output_type": "stream",
     "text": [
      "Table not found!\n"
     ]
    }
   ],
   "source": []
  },
  {
   "cell_type": "code",
   "execution_count": null,
   "id": "4c954b60",
   "metadata": {},
   "outputs": [],
   "source": []
  }
 ],
 "metadata": {
  "kernelspec": {
   "display_name": "Python 3 (ipykernel)",
   "language": "python",
   "name": "python3"
  },
  "language_info": {
   "codemirror_mode": {
    "name": "ipython",
    "version": 3
   },
   "file_extension": ".py",
   "mimetype": "text/x-python",
   "name": "python",
   "nbconvert_exporter": "python",
   "pygments_lexer": "ipython3",
   "version": "3.9.12"
  }
 },
 "nbformat": 4,
 "nbformat_minor": 5
}
