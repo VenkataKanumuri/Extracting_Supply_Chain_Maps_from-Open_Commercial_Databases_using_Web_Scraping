{
 "cells": [
  {
   "cell_type": "code",
   "execution_count": 2,
   "id": "58ee1b97",
   "metadata": {},
   "outputs": [],
   "source": [
    "import pandas as pd"
   ]
  },
  {
   "cell_type": "code",
   "execution_count": 4,
   "id": "465fe0d8",
   "metadata": {},
   "outputs": [],
   "source": [
    "# Loading Airframer data\n",
    "airframer_data = pd.read_csv(\"Airframer.csv\", delimiter=';')\n",
    "\n",
    "# Loading the network template from Polinode\n",
    "network_template = pd.ExcelFile(\"Network_Template.xlsx\")"
   ]
  },
  {
   "cell_type": "markdown",
   "id": "6430ef97",
   "metadata": {},
   "source": [
    "Creating Nodes Worksheet in Excel"
   ]
  },
  {
   "cell_type": "code",
   "execution_count": 8,
   "id": "b4e18a88",
   "metadata": {},
   "outputs": [],
   "source": [
    "# Extracting unique values from 'Supplier' and 'Company' columns to form the nodes\n",
    "suppliers = airframer_data['Supplier'].unique()\n",
    "companies = airframer_data['Company'].unique()\n",
    "\n",
    "# Combining and deduplicate the nodes\n",
    "all_nodes = pd.concat([pd.Series(suppliers), pd.Series(companies)]).drop_duplicates().reset_index(drop=True)\n",
    "\n",
    "# Creating a DataFrame for the 'Nodes' worksheet\n",
    "nodes_df = pd.DataFrame({'Name': all_nodes})"
   ]
  },
  {
   "cell_type": "markdown",
   "id": "cd5e5127",
   "metadata": {},
   "source": [
    "Creating Edges Worksheet"
   ]
  },
  {
   "cell_type": "code",
   "execution_count": 10,
   "id": "5c9f22fc",
   "metadata": {},
   "outputs": [],
   "source": [
    "# Creating a DataFrame for the 'Edges' worksheet\n",
    "edges_df = airframer_data[['Supplier', 'Company']].copy()\n",
    "\n",
    "# Renaming columns to match the Polinode template\n",
    "edges_df.columns = ['Source', 'Target']"
   ]
  },
  {
   "cell_type": "markdown",
   "id": "f5ceeccc",
   "metadata": {},
   "source": [
    "Cleaning the Data"
   ]
  },
  {
   "cell_type": "code",
   "execution_count": 11,
   "id": "a4cf9f44",
   "metadata": {},
   "outputs": [],
   "source": [
    "# Cleaning the nodes data\n",
    "nodes_df = nodes_df.dropna(subset=['Name'])\n",
    "\n",
    "# Cleaning the edges data\n",
    "edges_df = edges_df.dropna(subset=['Source', 'Target'])"
   ]
  },
  {
   "cell_type": "markdown",
   "id": "19d74635",
   "metadata": {},
   "source": [
    "Saving the File which is ideal for input in Polinode"
   ]
  },
  {
   "cell_type": "code",
   "execution_count": 12,
   "id": "683c1181",
   "metadata": {},
   "outputs": [],
   "source": [
    "# Saving the Airbus supplier data into a new file\n",
    "with pd.ExcelWriter(\"Airframe_Suppliers.xlsx\") as writer:\n",
    "    nodes_df.to_excel(writer, sheet_name='Nodes', index=False)\n",
    "    edges_df.to_excel(writer, sheet_name='Edges', index=False)"
   ]
  },
  {
   "cell_type": "code",
   "execution_count": null,
   "id": "026264b5",
   "metadata": {},
   "outputs": [],
   "source": []
  }
 ],
 "metadata": {
  "kernelspec": {
   "display_name": "Python 3 (ipykernel)",
   "language": "python",
   "name": "python3"
  },
  "language_info": {
   "codemirror_mode": {
    "name": "ipython",
    "version": 3
   },
   "file_extension": ".py",
   "mimetype": "text/x-python",
   "name": "python",
   "nbconvert_exporter": "python",
   "pygments_lexer": "ipython3",
   "version": "3.9.12"
  }
 },
 "nbformat": 4,
 "nbformat_minor": 5
}
