{
 "cells": [
  {
   "cell_type": "code",
   "execution_count": 2,
   "id": "4dae8615",
   "metadata": {},
   "outputs": [],
   "source": [
    "import pandas as pd\n",
    "\n",
    "# Load the Excel file\n",
    "xls = pd.ExcelFile(\"Copy of Network_Template.xlsx\")\n",
    "\n",
    "# Load the \"Nodes\" and \"Edges\" sheets\n",
    "nodes_data = xls.parse(\"Nodes\")\n",
    "edges_data = xls.parse(\"Edges\")\n",
    "\n",
    "# Identify and remove duplicates from the \"Nodes\" sheet\n",
    "nodes_data_cleaned = nodes_data.drop_duplicates(subset=\"name\", keep=\"first\")\n",
    "\n",
    "# Verification: Ensure all sources and targets in the \"Edges\" sheet exist in the cleaned \"Nodes\" sheet\n",
    "missing_sources_cleaned = set(edges_data['source']) - set(nodes_data_cleaned['name'])\n",
    "missing_targets_cleaned = set(edges_data['target']) - set(nodes_data_cleaned['name'])\n",
    "\n",
    "# If there are no missing sources or targets, you can save the cleaned data to a new Excel file\n",
    "if not missing_sources_cleaned and not missing_targets_cleaned:\n",
    "    output_path = \"Cleaned_data.xlsx\"\n",
    "    with pd.ExcelWriter(output_path) as writer:\n",
    "        nodes_data_cleaned.to_excel(writer, sheet_name=\"Nodes\", index=False)\n",
    "        edges_data.to_excel(writer, sheet_name=\"Edges\", index=False)"
   ]
  },
  {
   "cell_type": "code",
   "execution_count": null,
   "id": "29df9a53",
   "metadata": {},
   "outputs": [],
   "source": []
  }
 ],
 "metadata": {
  "kernelspec": {
   "display_name": "Python 3 (ipykernel)",
   "language": "python",
   "name": "python3"
  },
  "language_info": {
   "codemirror_mode": {
    "name": "ipython",
    "version": 3
   },
   "file_extension": ".py",
   "mimetype": "text/x-python",
   "name": "python",
   "nbconvert_exporter": "python",
   "pygments_lexer": "ipython3",
   "version": "3.9.12"
  }
 },
 "nbformat": 4,
 "nbformat_minor": 5
}
