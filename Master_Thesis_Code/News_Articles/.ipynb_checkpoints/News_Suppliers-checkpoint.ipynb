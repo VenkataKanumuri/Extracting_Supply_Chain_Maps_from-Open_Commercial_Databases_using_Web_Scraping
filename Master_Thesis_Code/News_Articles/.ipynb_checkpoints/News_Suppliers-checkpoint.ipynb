{
 "cells": [
  {
   "cell_type": "code",
   "execution_count": null,
   "id": "e5093553",
   "metadata": {},
   "outputs": [],
   "source": []
  },
  {
   "cell_type": "code",
   "execution_count": 9,
   "id": "a21c49d1",
   "metadata": {},
   "outputs": [
    {
     "name": "stdout",
     "output_type": "stream",
     "text": [
      "Enter the company name: Tesla\n"
     ]
    }
   ],
   "source": [
    "import requests\n",
    "from bs4 import BeautifulSoup\n",
    "from config import API_KEY\n",
    "\n",
    "def fetch_full_content(url):\n",
    "    try:\n",
    "        response = requests.get(url, timeout=10)\n",
    "        soup = BeautifulSoup(response.content, 'html.parser')\n",
    "        paragraphs = soup.find_all('p')\n",
    "        return '\\n'.join([p.get_text() for p in paragraphs])\n",
    "    except Exception as e:\n",
    "        return f\"Error fetching full content: {e}\"\n",
    "\n",
    "def is_phrase_in_sentence(phrase, company, content):\n",
    "    sentences = content.split('.')\n",
    "    for sentence in sentences:\n",
    "        if phrase in sentence and company in sentence:\n",
    "            return True\n",
    "    return False\n",
    "\n",
    "def fetch_company_suppliers_news(company_name):\n",
    "    base_url = 'https://newsapi.org/v2'\n",
    "    endpoint = '/everything'\n",
    "\n",
    "    # General search query\n",
    "    search_query = '(\"supplies to\" OR \"partner with\") {}'.format(company_name)\n",
    "\n",
    "    query_params = {\n",
    "        'q': search_query,\n",
    "        'apiKey': API_KEY,\n",
    "        'sortBy': 'publishedAt',\n",
    "        'language': 'en',\n",
    "        'pageSize': 30,  # Get more results as we will filter them further\n",
    "    }\n",
    "\n",
    "    response = requests.get(base_url + endpoint, params=query_params)\n",
    "\n",
    "    if response.status_code == 200:\n",
    "        data = response.json()\n",
    "        articles = data['articles']\n",
    "\n",
    "        output_filename = '{}_supplier_articles.txt'.format(company_name.replace(\" \", \"_\"))\n",
    "        with open(output_filename, 'w', encoding='utf-8') as file:\n",
    "            for article in articles:\n",
    "                title = article['title']\n",
    "                url = article['url']\n",
    "\n",
    "                full_content = fetch_full_content(url)\n",
    "\n",
    "                # Check if the phrases are in the same sentence with the company name\n",
    "                if not (is_phrase_in_sentence(\"supplies to\", company_name, full_content) or \n",
    "                        is_phrase_in_sentence(\"partner with\", company_name, full_content)):\n",
    "                    continue\n",
    "\n",
    "                file.write('Title: {}\\n'.format(title))\n",
    "                file.write('Full Content: {}\\n'.format(full_content))\n",
    "                file.write('URL: {}\\n'.format(url))\n",
    "                file.write('-' * 50 + '\\n')  # Separator\n",
    "    else:\n",
    "        print('Error:', response.status_code)\n",
    "\n",
    "if __name__ == \"__main__\":\n",
    "    company = input(\"Enter the company name: \")\n",
    "    fetch_company_suppliers_news(company)\n"
   ]
  },
  {
   "cell_type": "code",
   "execution_count": null,
   "id": "59807e1a",
   "metadata": {},
   "outputs": [],
   "source": []
  },
  {
   "cell_type": "code",
   "execution_count": null,
   "id": "68949b60",
   "metadata": {},
   "outputs": [],
   "source": []
  }
 ],
 "metadata": {
  "kernelspec": {
   "display_name": "Python 3 (ipykernel)",
   "language": "python",
   "name": "python3"
  },
  "language_info": {
   "codemirror_mode": {
    "name": "ipython",
    "version": 3
   },
   "file_extension": ".py",
   "mimetype": "text/x-python",
   "name": "python",
   "nbconvert_exporter": "python",
   "pygments_lexer": "ipython3",
   "version": "3.9.12"
  }
 },
 "nbformat": 4,
 "nbformat_minor": 5
}
