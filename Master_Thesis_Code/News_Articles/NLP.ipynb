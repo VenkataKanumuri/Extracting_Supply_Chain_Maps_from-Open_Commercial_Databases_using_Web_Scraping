{
 "cells": [
  {
   "cell_type": "code",
   "execution_count": 1,
   "id": "34a8dd33",
   "metadata": {},
   "outputs": [],
   "source": [
    "import spacy\n",
    "from nltk.tokenize import sent_tokenize"
   ]
  },
  {
   "cell_type": "code",
   "execution_count": 2,
   "id": "a99bd118",
   "metadata": {},
   "outputs": [],
   "source": [
    "# Load the Spacy model for NER\n",
    "nlp = spacy.load('en_core_web_sm')\n"
   ]
  },
  {
   "cell_type": "code",
   "execution_count": 3,
   "id": "9d57434b",
   "metadata": {},
   "outputs": [],
   "source": [
    "def extract_entities(article_content):\n",
    "    \"\"\"\n",
    "    Extract named entities using Spacy.\n",
    "    Args:\n",
    "    - article_content (str): The content of the article.\n",
    "    \n",
    "    Returns:\n",
    "    - List[Tuple[str, str]]: A list of entities and their corresponding labels.\n",
    "    \"\"\"\n",
    "    doc = nlp(article_content)\n",
    "    return [(ent.text, ent.label_) for ent in doc.ents]"
   ]
  },
  {
   "cell_type": "code",
   "execution_count": 16,
   "id": "22087856",
   "metadata": {},
   "outputs": [],
   "source": [
    "def get_companies_and_suppliers(article_content):\n",
    "    \"\"\"\n",
    "    Extract companies and potential suppliers from the article.\n",
    "    Args:\n",
    "    - article_content (str): The content of the article.\n",
    "    \n",
    "    Returns:\n",
    "    - Tuple[List[str], List[str]]: Lists of companies and suppliers.\n",
    "    \"\"\"\n",
    "    entities = extract_entities(article_content)\n",
    "    \n",
    "    # Extracting entities labeled as organizations which could be potential companies\n",
    "    companies = [entity[0] for entity in entities if entity[1] == \"ORG\"]\n",
    "\n",
    "    # Identify suppliers using linguistic patterns\n",
    "    suppliers = []\n",
    "    doc = nlp(article_content)\n",
    "    supply_related_verbs = [\"supply\", \"provide\", \"deliver\", \"offer\", \"partner\", \"Supplies to\"]\n",
    "    for sentence in doc.sents:\n",
    "        for token in sentence:\n",
    "            if token.pos_ == \"NOUN\" and any(verb in sentence.text for verb in supply_related_verbs):\n",
    "                suppliers.append(token.text)\n",
    "    \n",
    "    return list(set(companies)), list(set(suppliers))  # Removing duplicates using set and converting back to list\n"
   ]
  },
  {
   "cell_type": "code",
   "execution_count": 19,
   "id": "5fd03c45",
   "metadata": {},
   "outputs": [],
   "source": [
    "article_content = \"\"\"Title: VinFast’s shares surge in Nasdaq debut for Vietnam EV maker\n",
    "Full Content: \n",
    "SUMMARY\n",
    "This is AI generated summarization, which may have errors. For context, always refer to the full article.\n",
    "\n",
    "\t\t\t\t\t\tVINFAST. A VinFast VF 8 model is seen during a car delivery ceremony at the VinFast car factory in Haiphong province, Vietnam, September 10, 2022.\t\t\t\t\t\n",
    "\n",
    "\t\t\t\t\t\tThinh Nguyen/Reuters\t\t\t\t\t\n",
    "VinFast’s shares soared in thin trading in their Nasdaq debut on Tuesday, August 15, following the Vietnamese electric vehicle maker’s $23-billion backdoor listing as the startup said it was likely to raise money from global investors within 18 months.\n",
    "The stock opened at $22, more than double the $10 per share agreed with VinFast’s special purpose acquisition company (SPAC) partner Black Spade Acquisition that had valued VinFast at $23 billion.\n",
    "It surged further during the session, ending at $37.06 and valuing the EV maker, which has not posted a profit, at $85 billion, more than Ford’s market capitalization at $48 billion and General Motors’ $46-billion stock market value.\n",
    "About $185 million worth of the company’s shares were exchanged, according to Refinitiv data.\n",
    "The merger with the SPAC gave VinFast a listing in a market where founder Pham Nhat Vuong hopes to take on industry leader Tesla with a $4-billion factory under construction and a new approach to sales to bring in dealers.\n",
    "Vietnam’s richest man, Vuong is the beneficial owner of 99% of VinFast’s 2.3 billion ordinary shares after the merger through his flagship company and affiliates.\n",
    "“We have a number of strategic investors and institutional investors lined up. We expect to formulate some kind of capital raising over the next 18 months, for sure,” VinFast chief financial officer David Mansfield told Reuters.\n",
    "VinFast has shipped nearly 3,000 vehicles to North America since late last year, but initial sales have been slow. S&P Global Mobility says that only 137 VinFast EVs had been registered in the United States through June.\n",
    "“The Street has all its eyes on the leaders in this next frontier with many winners, along with Tesla, in this green EV tidal wave playing out for the coming years,” Wedbush Securities analyst Dan Ives said.\n",
    "VinFast chief executive officer Le Thi Thu Thuy said the company was changing its distribution model, which had been based on Tesla’s direct-to-consumer approach, and expected to partner with dealers in overseas markets.\n",
    "“We are switching to a hybrid model where we have our own showrooms, as well as talking to dealers to open dealer showrooms,” Thuy said in an interview with Reuters.\n",
    "VinFast was formed as a unit of Vietnam’s largest conglomerate Vingroup. Vuong, Vingroup, and affiliates had invested $9.3 billion in the EV maker, according to a June filing. Vuong pledged $2.5 billion in April to bolster the EV maker, including $1 billion from his personal fortune.\n",
    "VinFast’s first-quarter revenue dropped 49% from the previous year, and it posted a net loss of $598 million. In 2022, the company posted a loss of $2.1 billion.\n",
    "It has started construction on a $4-billion plant in North Carolina.\n",
    "VinFast is entering the American and European markets at a time when EV pricing is under pressure, led by market leader Tesla and a range of Chinese companies.\n",
    "VinFast’s VF8 starts at $46,000 in California, compared with $47,740 for the Tesla Model Y before accounting for a $7,500 federal tax credit on the Tesla.\n",
    "Thuy said VinFast was moving toward “cost reduction in the future.”\n",
    "Thuy said VinFast expected to bring its larger VF9 EV to the US market toward the end of the year and was in the process of getting its cars certified by Europe’s safety regulator. – Rappler.com\n",
    "\n",
    "Error.\n",
    "Foxcon Co. supplies to Tesla\n",
    "\n",
    "\n",
    "\t\t\tPlease abide by Rappler's commenting guidelines.\n",
    "\t\t\n",
    "\n",
    "\t\tThere are no comments yet. Add your comment to start the conversation.\t\n",
    "JOIN OUR NEWSLETTER\n",
    "Fearless reporting delivered to you\n",
    "follow us\n",
    "\n",
    "\n",
    "\n",
    "URL: https://www.rappler.com/business/vietnam-electric-vehicle-maker-vinfast-shares-nasdaq-debut-august-15-2023/\"\"\""
   ]
  },
  {
   "cell_type": "code",
   "execution_count": 20,
   "id": "1a9c179b",
   "metadata": {},
   "outputs": [
    {
     "name": "stdout",
     "output_type": "stream",
     "text": [
      "Companies: ['EV', 'Vingroup', 'VinFast', 'Foxcon Co.', 'Ford', 'Tesla', 'AI', 'Thuy', 'Refinitiv', 'Reuters', 'Black Spade Acquisition', 'General Motors', 'Wedbush Securities', 'Nasdaq', 'SPAC', 'Rappler', 'Thinh Nguyen/Reuters']\n",
      "Potential Suppliers: ['delivery', 'ceremony', 'partner', 'distribution', 'share', 'consumer', 'company', 'province', 'acquisition', 'reporting', 'approach', 'purpose', 'factory', 'dealers', 'officer', 'markets', 'car', 'stock', 'model']\n"
     ]
    }
   ],
   "source": [
    "companies, suppliers = get_companies_and_suppliers(article_content)\n",
    "print(\"Companies:\", companies)\n",
    "print(\"Potential Suppliers:\", suppliers)"
   ]
  },
  {
   "cell_type": "code",
   "execution_count": null,
   "id": "d8231c98",
   "metadata": {},
   "outputs": [],
   "source": []
  }
 ],
 "metadata": {
  "kernelspec": {
   "display_name": "Python 3 (ipykernel)",
   "language": "python",
   "name": "python3"
  },
  "language_info": {
   "codemirror_mode": {
    "name": "ipython",
    "version": 3
   },
   "file_extension": ".py",
   "mimetype": "text/x-python",
   "name": "python",
   "nbconvert_exporter": "python",
   "pygments_lexer": "ipython3",
   "version": "3.9.12"
  }
 },
 "nbformat": 4,
 "nbformat_minor": 5
}
