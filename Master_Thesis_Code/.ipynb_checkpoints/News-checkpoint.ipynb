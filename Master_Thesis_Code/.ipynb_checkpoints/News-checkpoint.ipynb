{
 "cells": [
  {
   "cell_type": "code",
   "execution_count": null,
   "id": "b13f2503",
   "metadata": {},
   "outputs": [],
   "source": []
  },
  {
   "cell_type": "code",
   "execution_count": null,
   "id": "d3dde6f9",
   "metadata": {},
   "outputs": [],
   "source": []
  },
  {
   "cell_type": "code",
   "execution_count": 58,
   "id": "e1addac1",
   "metadata": {},
   "outputs": [
    {
     "name": "stdout",
     "output_type": "stream",
     "text": [
      "Enter the company name: Tesla\n"
     ]
    }
   ],
   "source": [
    "\n",
    "import requests\n",
    "from config import API_KEY\n",
    "\n",
    "def fetch_company_news(company_name):\n",
    "    base_url = 'https://newsapi.org/v2'\n",
    "    endpoint = '/everything'\n",
    "\n",
    "    search_query = '{} suppliers'.format(company_name)\n",
    "\n",
    "    # Query parameters\n",
    "    query_params = {\n",
    "        'q': search_query,\n",
    "        'apiKey': API_KEY,\n",
    "        'sortBy': 'publishedAt',\n",
    "        'language': 'en',\n",
    "        'pageSize': 20,  # Limit the number of articles to 20\n",
    "    }\n",
    "\n",
    "    response = requests.get(base_url + endpoint, params=query_params)\n",
    "\n",
    "    if response.status_code == 200:\n",
    "        data = response.json()\n",
    "        articles = data['articles']\n",
    "        \n",
    "        seen_titles = set()  # This set will keep track of titles we've already written\n",
    "\n",
    "        output_filename = '{}_news_articles.txt'.format(company_name.replace(\" \", \"_\"))\n",
    "        with open(output_filename, 'w', encoding='utf-8') as file:\n",
    "            for article in articles:\n",
    "                title = article['title']\n",
    "\n",
    "                # Check if we've already written an article with this title\n",
    "                if title in seen_titles:\n",
    "                    continue\n",
    "                \n",
    "                # If not, add the title to the set\n",
    "                seen_titles.add(title)\n",
    "\n",
    "                content = article.get('content', 'No content available')\n",
    "                published_at = article['publishedAt']\n",
    "                url = article['url']\n",
    "\n",
    "                file.write('Title: {}\\n'.format(title))\n",
    "                file.write('Content: {}\\n'.format(content))\n",
    "                file.write('Published Date: {}\\n'.format(published_at))\n",
    "                file.write('URL: {}\\n'.format(url))\n",
    "                file.write('-' * 30 + '\\n')  # Separator between news articles\n",
    "    else:\n",
    "        print('Error:', response.status_code)\n",
    "\n",
    "if __name__ == \"__main__\":\n",
    "    company = input(\"Enter the company name: \")\n",
    "    fetch_company_news(company)\n"
   ]
  },
  {
   "cell_type": "code",
   "execution_count": null,
   "id": "76aae044",
   "metadata": {},
   "outputs": [],
   "source": []
  },
  {
   "cell_type": "code",
   "execution_count": null,
   "id": "dc14d545",
   "metadata": {},
   "outputs": [],
   "source": []
  },
  {
   "cell_type": "code",
   "execution_count": null,
   "id": "f4323f25",
   "metadata": {},
   "outputs": [],
   "source": []
  },
  {
   "cell_type": "code",
   "execution_count": null,
   "id": "2172845c",
   "metadata": {},
   "outputs": [],
   "source": []
  }
 ],
 "metadata": {
  "kernelspec": {
   "display_name": "Python 3 (ipykernel)",
   "language": "python",
   "name": "python3"
  },
  "language_info": {
   "codemirror_mode": {
    "name": "ipython",
    "version": 3
   },
   "file_extension": ".py",
   "mimetype": "text/x-python",
   "name": "python",
   "nbconvert_exporter": "python",
   "pygments_lexer": "ipython3",
   "version": "3.9.12"
  }
 },
 "nbformat": 4,
 "nbformat_minor": 5
}
