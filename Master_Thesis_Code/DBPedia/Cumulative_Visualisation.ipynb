{
 "cells": [
  {
   "cell_type": "code",
   "execution_count": 7,
   "id": "2f7b9771",
   "metadata": {},
   "outputs": [],
   "source": [
    "import pandas as pd\n",
    "import networkx as nx\n",
    "from pyvis.network import Network\n",
    "import json"
   ]
  },
  {
   "cell_type": "code",
   "execution_count": 8,
   "id": "2ab1fc4c",
   "metadata": {},
   "outputs": [],
   "source": [
    "data_intel = pd.read_csv('Intel/Intel_Suppliers.csv')\n",
    "data_mediatek = pd.read_csv('Intel/Tier 1/Mediatek_Suppliers.csv')\n",
    "data_NeoMagic = pd.read_csv('Intel/Tier 1/NeoMagic_Suppliers.csv')\n",
    "data_Nvidia = pd.read_csv('Intel/Tier 1/Nvidia_Suppliers.csv')\n",
    "data_Powerchip = pd.read_csv('Intel/Tier 1/Powerchip_Suppliers.csv')\n",
    "data_Qualcomm = pd.read_csv('Intel/Tier 1/Qualcomm_Suppliers.csv')\n",
    "data_Ralink = pd.read_csv('Intel/Tier 1/Ralink_Suppliers.csv')\n",
    "data_VIA_Technologies = pd.read_csv('Intel/Tier 1/VIA_Technologies_Suppliers.csv')\n",
    "data_Zhaoxin = pd.read_csv('Intel/Tier 1/Zhaoxin_Suppliers.csv')\n",
    "data_Advanced_Micro_Devices = pd.read_csv('Intel/Tier 2/Mediatek/Advanced_Micro_Devices.csv')\n",
    "data_Canaan_Creative = pd.read_csv('Intel/Tier 2/Mediatek/Canaan_Creative.csv')\n",
    "data_Cyrix = pd.read_csv('Intel/Tier 2/Mediatek/Cyrix.csv')\n",
    "data_NexGen = pd.read_csv('Intel/Tier 2/Mediatek/NexGen_Suppliers.csv')\n",
    "data_Pegatron = pd.read_csv('Intel/Tier 2/Mediatek/Pegatron.csv')\n",
    "data_Rigetti_Computing = pd.read_csv('Intel/Tier 2/Mediatek/Rigetti_Computing.csv')\n",
    "data_STMicroelectronics = pd.read_csv('Intel/Tier 2/Mediatek/STMicroelectronics.csv')\n",
    "data_TSMC = pd.read_csv('Intel/Tier 2/Mediatek/TSMC.csv')\n",
    "data_Unisphere_Networks = pd.read_csv('Intel/Tier 2/Mediatek/Unisphere_Networks.csv')\n",
    "data_XFX = pd.read_csv('Intel/Tier 2/Mediatek/XFX.csv')\n",
    "data_Calxeda = pd.read_csv('Intel/Tier 2/NeoMagic/Calxeda.csv')\n",
    "data_Microsemi = pd.read_csv('Intel/Tier 2/NeoMagic/Microsemi.csv')\n",
    "data_Nufront = pd.read_csv('Intel/Tier 2/NeoMagic/Nufront.csv')\n",
    "data_Amlogic = pd.read_csv('Intel/Tier 2/NeoMagic/Amlogic.csv')"
   ]
  },
  {
   "cell_type": "code",
   "execution_count": 9,
   "id": "b1cf9dac",
   "metadata": {},
   "outputs": [],
   "source": [
    "def add_suppliers_to_graph(data, graph, color=\"lightblue\"):\n",
    "    for supplier in data['supplier'].unique():\n",
    "        graph.add_node(supplier, color=color)\n",
    "\n",
    "    customer_name = data['customer'].iloc[0]\n",
    "    if customer_name == \"Intel\":\n",
    "        graph.add_node(customer_name, color=\"Yellow\", size=60)  # Adjust size and color for Intel\n",
    "    else:\n",
    "        graph.add_node(customer_name)\n",
    "\n",
    "    for index, row in data.iterrows():\n",
    "        graph.add_edge(row['supplier'], customer_name, product=row['product'])"
   ]
  },
  {
   "cell_type": "code",
   "execution_count": 10,
   "id": "d7d01027",
   "metadata": {},
   "outputs": [],
   "source": [
    "G = nx.DiGraph()\n",
    "add_suppliers_to_graph(data_intel, G)\n",
    "add_suppliers_to_graph(data_mediatek, G)\n",
    "add_suppliers_to_graph(data_NeoMagic, G)\n",
    "add_suppliers_to_graph(data_Nvidia, G)\n",
    "add_suppliers_to_graph(data_Powerchip, G)\n",
    "add_suppliers_to_graph(data_Qualcomm, G)\n",
    "add_suppliers_to_graph(data_Ralink, G)\n",
    "add_suppliers_to_graph(data_VIA_Technologies, G)\n",
    "add_suppliers_to_graph(data_Zhaoxin, G)\n",
    "add_suppliers_to_graph(data_Advanced_Micro_Devices, G)\n",
    "add_suppliers_to_graph(data_Canaan_Creative, G)\n",
    "add_suppliers_to_graph(data_Cyrix, G)\n",
    "add_suppliers_to_graph(data_NexGen, G)\n",
    "add_suppliers_to_graph(data_Pegatron, G)\n",
    "add_suppliers_to_graph(data_Rigetti_Computing, G)\n",
    "add_suppliers_to_graph(data_STMicroelectronics, G)\n",
    "add_suppliers_to_graph(data_TSMC, G)\n",
    "add_suppliers_to_graph(data_Unisphere_Networks, G)\n",
    "add_suppliers_to_graph(data_XFX, G)\n",
    "add_suppliers_to_graph(data_Calxeda, G)\n",
    "add_suppliers_to_graph(data_Microsemi, G)\n",
    "add_suppliers_to_graph(data_Nufront, G)\n",
    "add_suppliers_to_graph(data_Amlogic, G)"
   ]
  },
  {
   "cell_type": "code",
   "execution_count": 11,
   "id": "3170c395",
   "metadata": {},
   "outputs": [],
   "source": [
    "def visualize_with_pyvis(G):\n",
    "    nt = Network(notebook=True, directed=True, bgcolor=\"#000000\", font_color=\"white\")\n",
    "    \n",
    "    for node, node_attrs in G.nodes(data=True):\n",
    "        color = node_attrs.get(\"color\", \"lightblue\")\n",
    "        size = node_attrs.get(\"size\", 15)  # default size set to 15, change as needed\n",
    "        nt.add_node(node, color=color, size=size)\n",
    "    \n",
    "    for edge in G.edges(data=True):\n",
    "        nt.add_edge(source=edge[0], to=edge[1], title=edge[2]['product'], color=\"gray\")\n",
    "    \n",
    "    options = {\n",
    "        \"physics\": {\n",
    "            \"barnesHut\": {\n",
    "                \"gravitationalConstant\": -30000,\n",
    "                \"centralGravity\": 0.3,\n",
    "                \"springLength\": 100,\n",
    "                \"springConstant\": 0.05,\n",
    "            }\n",
    "        },\n",
    "        \"nodes\": {\n",
    "            \"font\": {\n",
    "                \"color\": \"white\"\n",
    "            }\n",
    "        },\n",
    "        \"edges\": {\n",
    "            \"color\": \"gray\",\n",
    "            \"arrows\": {\n",
    "                \"to\": {\n",
    "                    \"enabled\": True,\n",
    "                    \"scaleFactor\": 0.5\n",
    "                }\n",
    "            }\n",
    "        },\n",
    "    }\n",
    "    \n",
    "    options_str = json.dumps(options)\n",
    "    nt.set_options(options_str)\n",
    "    \n",
    "    return nt"
   ]
  },
  {
   "cell_type": "code",
   "execution_count": 12,
   "id": "cb5828fe",
   "metadata": {
    "scrolled": true
   },
   "outputs": [
    {
     "name": "stdout",
     "output_type": "stream",
     "text": [
      "Warning: When  cdn_resources is 'local' jupyter notebook has issues displaying graphics on chrome/safari. Use cdn_resources='in_line' or cdn_resources='remote' if you have issues viewing graphics in a notebook.\n",
      "network_Cumulative.html\n"
     ]
    },
    {
     "data": {
      "text/html": [
       "\n",
       "        <iframe\n",
       "            width=\"100%\"\n",
       "            height=\"600px\"\n",
       "            src=\"network_Cumulative.html\"\n",
       "            frameborder=\"0\"\n",
       "            allowfullscreen\n",
       "            \n",
       "        ></iframe>\n",
       "        "
      ],
      "text/plain": [
       "<IPython.lib.display.IFrame at 0x7febebc3ff10>"
      ]
     },
     "execution_count": 12,
     "metadata": {},
     "output_type": "execute_result"
    }
   ],
   "source": [
    "net = visualize_with_pyvis(G)\n",
    "net.show(\"network_Cumulative.html\")"
   ]
  },
  {
   "cell_type": "code",
   "execution_count": null,
   "id": "2185b9a7",
   "metadata": {},
   "outputs": [],
   "source": []
  }
 ],
 "metadata": {
  "kernelspec": {
   "display_name": "Python 3 (ipykernel)",
   "language": "python",
   "name": "python3"
  },
  "language_info": {
   "codemirror_mode": {
    "name": "ipython",
    "version": 3
   },
   "file_extension": ".py",
   "mimetype": "text/x-python",
   "name": "python",
   "nbconvert_exporter": "python",
   "pygments_lexer": "ipython3",
   "version": "3.9.12"
  }
 },
 "nbformat": 4,
 "nbformat_minor": 5
}
