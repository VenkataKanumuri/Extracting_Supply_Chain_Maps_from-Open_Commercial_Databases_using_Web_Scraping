{
 "cells": [
  {
   "cell_type": "code",
   "execution_count": 31,
   "id": "e05e9981",
   "metadata": {},
   "outputs": [],
   "source": [
    "import pandas as pd\n",
    "\n",
    "# Load the CSV file\n",
    "file_path = 'sparql.csv'  # Replace with the path to your CSV file\n",
    "df = pd.read_csv(file_path)\n",
    "\n",
    "# Function to remove the prefix\n",
    "def remove_prefix(value):\n",
    "    if isinstance(value, str):\n",
    "        return value.replace('http://dbpedia.org/resource/', '')\n",
    "    return value\n",
    "\n",
    "\n",
    "# Apply the function to every cell in the dataframe\n",
    "df = df.applymap(remove_prefix)\n",
    "\n",
    "# Save the modified data back to a new CSV file\n",
    "output_file_path = 'modified_csv_file.csv'  # Name of the output file\n",
    "df.to_csv(output_file_path, index=False)"
   ]
  },
  {
   "cell_type": "code",
   "execution_count": 32,
   "id": "c2759d69",
   "metadata": {},
   "outputs": [
    {
     "name": "stdout",
     "output_type": "stream",
     "text": [
      "Please enter the customer's name: Calxeda\n",
      "'customer' column added and filled with 'Calxeda'!\n"
     ]
    }
   ],
   "source": [
    "import pandas as pd\n",
    "\n",
    "# Read the CSV file into a DataFrame\n",
    "file_path = 'modified_csv_file.csv'\n",
    "df = pd.read_csv(file_path)\n",
    "\n",
    "# Ask the user for input\n",
    "customer_name = input(\"Please enter the customer's name: \")\n",
    "\n",
    "# Create a new column 'customer' and fill it with the user's input\n",
    "df['customer'] = customer_name\n",
    "\n",
    "# Save the modified DataFrame back to the CSV file\n",
    "df.to_csv(file_path, index=False)\n",
    "\n",
    "print(f\"'customer' column added and filled with '{customer_name}'!\")"
   ]
  },
  {
   "cell_type": "code",
   "execution_count": null,
   "id": "88cbe6ab",
   "metadata": {},
   "outputs": [],
   "source": []
  },
  {
   "cell_type": "code",
   "execution_count": null,
   "id": "0bb27e80",
   "metadata": {},
   "outputs": [],
   "source": []
  }
 ],
 "metadata": {
  "kernelspec": {
   "display_name": "Python 3 (ipykernel)",
   "language": "python",
   "name": "python3"
  },
  "language_info": {
   "codemirror_mode": {
    "name": "ipython",
    "version": 3
   },
   "file_extension": ".py",
   "mimetype": "text/x-python",
   "name": "python",
   "nbconvert_exporter": "python",
   "pygments_lexer": "ipython3",
   "version": "3.9.12"
  }
 },
 "nbformat": 4,
 "nbformat_minor": 5
}
