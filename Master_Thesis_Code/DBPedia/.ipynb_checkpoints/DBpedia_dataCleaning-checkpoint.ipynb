{
 "cells": [
  {
   "cell_type": "code",
   "execution_count": 1,
   "id": "5f39f615",
   "metadata": {},
   "outputs": [
    {
     "name": "stdout",
     "output_type": "stream",
     "text": [
      "Requirement already satisfied: pandas in /Users/Raju/opt/anaconda3/lib/python3.9/site-packages (1.4.2)\n",
      "Requirement already satisfied: openpyxl in /Users/Raju/opt/anaconda3/lib/python3.9/site-packages (3.0.9)\n",
      "Requirement already satisfied: python-dateutil>=2.8.1 in /Users/Raju/opt/anaconda3/lib/python3.9/site-packages (from pandas) (2.8.2)\n",
      "Requirement already satisfied: pytz>=2020.1 in /Users/Raju/opt/anaconda3/lib/python3.9/site-packages (from pandas) (2021.3)\n",
      "Requirement already satisfied: numpy>=1.18.5 in /Users/Raju/opt/anaconda3/lib/python3.9/site-packages (from pandas) (1.21.5)\n",
      "Requirement already satisfied: et-xmlfile in /Users/Raju/opt/anaconda3/lib/python3.9/site-packages (from openpyxl) (1.1.0)\n",
      "Requirement already satisfied: six>=1.5 in /Users/Raju/opt/anaconda3/lib/python3.9/site-packages (from python-dateutil>=2.8.1->pandas) (1.16.0)\n"
     ]
    }
   ],
   "source": [
    "!pip install pandas openpyxl\n"
   ]
  },
  {
   "cell_type": "code",
   "execution_count": 15,
   "id": "84bf2a46",
   "metadata": {},
   "outputs": [],
   "source": [
    "import pandas as pd\n",
    "\n",
    "# Load the CSV file\n",
    "file_path = 'sparql.csv'  # Replace with the path to your CSV file\n",
    "df = pd.read_csv(file_path)\n",
    "\n",
    "# Function to remove the prefix\n",
    "def remove_prefix(value):\n",
    "    if isinstance(value, str):\n",
    "        return value.replace('http://dbpedia.org/resource/', '')\n",
    "    return value\n",
    "\n",
    "\n",
    "# Apply the function to every cell in the dataframe\n",
    "df = df.applymap(remove_prefix)\n",
    "\n",
    "# Save the modified data back to a new CSV file\n",
    "output_file_path = 'modified_csv_file.csv'  # Name of the output file\n",
    "df.to_csv(output_file_path, index=False)"
   ]
  },
  {
   "cell_type": "code",
   "execution_count": 16,
   "id": "730861c2",
   "metadata": {},
   "outputs": [
    {
     "name": "stdout",
     "output_type": "stream",
     "text": [
      "Please enter the customer's name: MediaTek\n",
      "'customer' column added and filled with 'MediaTek'!\n"
     ]
    }
   ],
   "source": [
    "import pandas as pd\n",
    "\n",
    "# Read the CSV file into a DataFrame\n",
    "file_path = 'modified_csv_file.csv'\n",
    "df = pd.read_csv(file_path)\n",
    "\n",
    "# Ask the user for input\n",
    "customer_name = input(\"Please enter the customer's name: \")\n",
    "\n",
    "# Create a new column 'customer' and fill it with the user's input\n",
    "df['customer'] = customer_name\n",
    "\n",
    "# Save the modified DataFrame back to the CSV file\n",
    "df.to_csv(file_path, index=False)\n",
    "\n",
    "print(f\"'customer' column added and filled with '{customer_name}'!\")"
   ]
  },
  {
   "cell_type": "code",
   "execution_count": null,
   "id": "fa3778df",
   "metadata": {},
   "outputs": [],
   "source": []
  }
 ],
 "metadata": {
  "kernelspec": {
   "display_name": "Python 3 (ipykernel)",
   "language": "python",
   "name": "python3"
  },
  "language_info": {
   "codemirror_mode": {
    "name": "ipython",
    "version": 3
   },
   "file_extension": ".py",
   "mimetype": "text/x-python",
   "name": "python",
   "nbconvert_exporter": "python",
   "pygments_lexer": "ipython3",
   "version": "3.9.12"
  }
 },
 "nbformat": 4,
 "nbformat_minor": 5
}
