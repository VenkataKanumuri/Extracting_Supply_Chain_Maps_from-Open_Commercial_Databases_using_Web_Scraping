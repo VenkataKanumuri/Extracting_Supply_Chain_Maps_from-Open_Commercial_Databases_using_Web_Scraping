{
 "cells": [
  {
   "cell_type": "code",
   "execution_count": 1,
   "id": "a0ee5d66",
   "metadata": {},
   "outputs": [
    {
     "name": "stdout",
     "output_type": "stream",
     "text": [
      "           supplier                       product customer\n",
      "0         Powerchip                  Flash_memory    Intel\n",
      "1            QLogic  Network_interface_controller    Intel\n",
      "2          Qualcomm       Central_processing_unit    Intel\n",
      "3  Qualcomm_Atheros                     Bluetooth    Intel\n",
      "4           Samsung                  Flash_memory    Intel\n"
     ]
    }
   ],
   "source": [
    "import pandas as pd\n",
    "\n",
    "# Load the CSV file\n",
    "data = pd.read_csv('Intel/Intel_Suppliers.csv')\n",
    "\n",
    "# Display the first few rows\n",
    "print(data.head())"
   ]
  },
  {
   "cell_type": "code",
   "execution_count": 2,
   "id": "5225e8c3",
   "metadata": {},
   "outputs": [],
   "source": [
    "import networkx as nx\n",
    "import matplotlib.pyplot as plt\n",
    "\n",
    "# Create a directed graph\n",
    "G = nx.DiGraph()\n",
    "\n",
    "# Add nodes for each supplier\n",
    "for supplier in data['supplier'].unique():\n",
    "    G.add_node(supplier)\n",
    "\n",
    "# Add a node for the customer\n",
    "G.add_node(data['customer'].iloc[0])\n",
    "\n",
    "# Add edges from suppliers to the customer with product as the attribute\n",
    "for index, row in data.iterrows():\n",
    "    G.add_edge(row['supplier'], row['customer'], product=row['product'])"
   ]
  },
  {
   "cell_type": "code",
   "execution_count": 8,
   "id": "308698d1",
   "metadata": {
    "scrolled": true
   },
   "outputs": [
    {
     "name": "stdout",
     "output_type": "stream",
     "text": [
      "Warning: When  cdn_resources is 'local' jupyter notebook has issues displaying graphics on chrome/safari. Use cdn_resources='in_line' or cdn_resources='remote' if you have issues viewing graphics in a notebook.\n",
      "network.html\n"
     ]
    },
    {
     "data": {
      "text/html": [
       "\n",
       "        <iframe\n",
       "            width=\"100%\"\n",
       "            height=\"600px\"\n",
       "            src=\"network.html\"\n",
       "            frameborder=\"0\"\n",
       "            allowfullscreen\n",
       "            \n",
       "        ></iframe>\n",
       "        "
      ],
      "text/plain": [
       "<IPython.lib.display.IFrame at 0x7fd6ca28f190>"
      ]
     },
     "execution_count": 8,
     "metadata": {},
     "output_type": "execute_result"
    }
   ],
   "source": [
    "from pyvis.network import Network\n",
    "import json\n",
    "\n",
    "def visualize_with_pyvis(G):\n",
    "    # Create a pyvis network\n",
    "    nt = Network(notebook=True, directed=True)\n",
    "    \n",
    "    # Load nodes into pyvis network\n",
    "    for node in G.nodes():\n",
    "        nt.add_node(node)\n",
    "    \n",
    "    # Load edges with edge attributes into pyvis network\n",
    "    for edge in G.edges(data=True):\n",
    "        nt.add_edge(source=edge[0], to=edge[1], title=edge[2]['product'])\n",
    "    \n",
    "    # Customize options (like physics for more optimal node spacing)\n",
    "    options = {\n",
    "        \"physics\": {\n",
    "            \"barnesHut\": {\n",
    "                \"gravitationalConstant\": -30000,\n",
    "                \"centralGravity\": 0.3,\n",
    "                \"springLength\": 100,\n",
    "                \"springConstant\": 0.05,\n",
    "            }\n",
    "        },\n",
    "        \"nodes\": {\n",
    "            \"color\": \"lightblue\"\n",
    "        },\n",
    "        \"edges\": {\n",
    "            \"color\": \"gray\",\n",
    "            \"arrows\": {\n",
    "                \"to\": {\n",
    "                    \"enabled\": True,\n",
    "                    \"scaleFactor\": 0.5\n",
    "                }\n",
    "            }\n",
    "        }\n",
    "    }\n",
    "    \n",
    "    # Convert options dict to JSON string and then set options\n",
    "    options_str = json.dumps(options)\n",
    "    nt.set_options(options_str)\n",
    "    \n",
    "    return nt\n",
    "\n",
    "net = visualize_with_pyvis(G)\n",
    "net.show(\"network.html\")\n"
   ]
  },
  {
   "cell_type": "code",
   "execution_count": 9,
   "id": "d375c953",
   "metadata": {},
   "outputs": [
    {
     "name": "stdout",
     "output_type": "stream",
     "text": [
      "Visualization saved as network_visualization.html\n"
     ]
    }
   ],
   "source": [
    "# Define a filename for the HTML file\n",
    "output_file = \"network_visualization.html\"\n",
    "\n",
    "# Save the visualization to an HTML file\n",
    "net.save_graph(output_file)\n",
    "\n",
    "print(f\"Visualization saved as {output_file}\")"
   ]
  },
  {
   "cell_type": "code",
   "execution_count": null,
   "id": "d2a7e194",
   "metadata": {},
   "outputs": [],
   "source": []
  }
 ],
 "metadata": {
  "kernelspec": {
   "display_name": "Python 3 (ipykernel)",
   "language": "python",
   "name": "python3"
  },
  "language_info": {
   "codemirror_mode": {
    "name": "ipython",
    "version": 3
   },
   "file_extension": ".py",
   "mimetype": "text/x-python",
   "name": "python",
   "nbconvert_exporter": "python",
   "pygments_lexer": "ipython3",
   "version": "3.9.12"
  }
 },
 "nbformat": 4,
 "nbformat_minor": 5
}
