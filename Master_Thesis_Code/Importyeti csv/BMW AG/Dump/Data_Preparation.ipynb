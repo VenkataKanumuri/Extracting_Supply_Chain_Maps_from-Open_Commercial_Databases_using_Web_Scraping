{
 "cells": [
  {
   "cell_type": "code",
   "execution_count": 2,
   "id": "590e9071",
   "metadata": {},
   "outputs": [
    {
     "name": "stdout",
     "output_type": "stream",
     "text": [
      "Edge and node tables have been saved as 'edge_table_gephi.csv' and 'node_table_gephi.csv'.\n"
     ]
    }
   ],
   "source": [
    "import pandas as pd\n",
    "\n",
    "# Creating edge and node tables for Gephi\n",
    "def create_gephi_tables(csv_path):\n",
    "    df = pd.read_csv(csv_path, delimiter=';')\n",
    "    \n",
    "    # Creating an edge table with 'Company Name', 'Supplier Name' and 'Product Description'\n",
    "    edge_table = df[['Company Name', 'Supplier Name', 'Product Description']].copy()\n",
    "    edge_table.columns = ['Source', 'Target', 'Product Description']  # Renaming columns to be more generic\n",
    "    \n",
    "    # Create a node table containing unique 'Company Names' and 'Supplier Names'\n",
    "    node_table = pd.DataFrame({'Id': pd.concat([df['Company Name'], df['Supplier Name']], ignore_index=True).drop_duplicates()})\n",
    "    \n",
    "    # Save the edge and node tables as CSV files\n",
    "    edge_table.to_csv('edge_table_gephi.csv', index=False)\n",
    "    node_table.to_csv('node_table_gephi.csv', index=False)\n",
    "\n",
    "    print(\"Edge and node tables have been saved as 'edge_table_gephi.csv' and 'node_table_gephi.csv'.\")\n",
    "\n",
    "# Provide the path to your CSV file\n",
    "csv_path = 'BMW_power_table.csv'  # Replace with your actual file path\n",
    "create_gephi_tables(csv_path)"
   ]
  },
  {
   "cell_type": "code",
   "execution_count": 7,
   "id": "d342b8e9",
   "metadata": {},
   "outputs": [
    {
     "name": "stdout",
     "output_type": "stream",
     "text": [
      "Edge and node tables have been saved as 'edge_table_gephi_Ti.csv' and 'node_table_gephi_Ti.csv'.\n"
     ]
    }
   ],
   "source": [
    "import pandas as pd\n",
    "\n",
    "# Creating edge and node tables for Gephi\n",
    "def create_gephi_tables(csv_path):\n",
    "    df = pd.read_csv(csv_path, delimiter=';')\n",
    "    \n",
    "    # Creating an edge table with 'Company Name', 'Supplier Name' and 'Product Description'\n",
    "    edge_table = df[['Company Name', 'Supplier Name', 'Product Description']].copy()\n",
    "    edge_table.columns = ['Source', 'Target', 'Product Description']  # Renaming columns to be more generic\n",
    "    \n",
    "    # Create a node table containing unique 'Company Names' and 'Supplier Names'\n",
    "    node_table = pd.DataFrame({'Id': pd.concat([df['Company Name'], df['Supplier Name']], ignore_index=True).drop_duplicates()})\n",
    "    \n",
    "    # Save the edge and node tables as CSV files\n",
    "    edge_table.to_csv('Akwel_power_table_edge.csv', index=False)\n",
    "    node_table.to_csv('Akwel_power_table_node.csv', index=False)\n",
    "\n",
    "    print(\"Edge and node tables have been saved as 'edge_table_gephi_Ti.csv' and 'node_table_gephi_Ti.csv'.\")\n",
    "\n",
    "# Provide the path to your CSV file\n",
    "csv_path = 'Akwel_power_table.csv'  # Replace with your actual file path\n",
    "create_gephi_tables(csv_path)\n"
   ]
  },
  {
   "cell_type": "code",
   "execution_count": 8,
   "id": "7af98d5f",
   "metadata": {},
   "outputs": [],
   "source": [
    "import pandas as pd\n",
    "\n",
    "# Reading in the node and edge tables for BMW and TI Group\n",
    "uploaded_node_table = pd.read_csv('node_table_gephi.csv')\n",
    "uploaded_edge_table = pd.read_csv('edge_table_gephi.csv')\n",
    "ti_node_table = pd.read_csv('Akwel_power_table_node.csv')\n",
    "ti_edge_table = pd.read_csv('Akwel_power_table_edge.csv')\n",
    "\n",
    "# Merge the node tables for BMW and TI Group\n",
    "# We use drop_duplicates() to ensure that each node appears only once in the merged table\n",
    "merged_node_table = pd.concat([uploaded_node_table, ti_node_table]).drop_duplicates()\n",
    "\n",
    "# Merge the edge tables for BMW and TI Group\n",
    "# In this case, we keep all edges, even if they are duplicates\n",
    "merged_edge_table = pd.concat([uploaded_edge_table, ti_edge_table])\n",
    "\n",
    "# Save the merged tables to CSV files (optional)\n",
    "merged_edge_table.to_csv('merged_edge_table_for_gephi.csv', index=False)\n",
    "merged_node_table.to_csv('merged_node_table_for_gephi.csv', index=False)"
   ]
  },
  {
   "cell_type": "code",
   "execution_count": null,
   "id": "a6a43eba",
   "metadata": {},
   "outputs": [],
   "source": []
  }
 ],
 "metadata": {
  "kernelspec": {
   "display_name": "Python 3 (ipykernel)",
   "language": "python",
   "name": "python3"
  },
  "language_info": {
   "codemirror_mode": {
    "name": "ipython",
    "version": 3
   },
   "file_extension": ".py",
   "mimetype": "text/x-python",
   "name": "python",
   "nbconvert_exporter": "python",
   "pygments_lexer": "ipython3",
   "version": "3.9.12"
  }
 },
 "nbformat": 4,
 "nbformat_minor": 5
}
