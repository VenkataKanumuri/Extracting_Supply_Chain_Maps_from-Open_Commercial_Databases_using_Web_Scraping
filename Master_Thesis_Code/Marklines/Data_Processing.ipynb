{
 "cells": [
  {
   "cell_type": "markdown",
   "id": "f066af4a",
   "metadata": {},
   "source": [
    "Merging individual Files"
   ]
  },
  {
   "cell_type": "code",
   "execution_count": 2,
   "id": "9130bb28",
   "metadata": {},
   "outputs": [
    {
     "name": "stdout",
     "output_type": "stream",
     "text": [
      "Merged data saved to Merged_Tesla_Data.csv\n"
     ]
    }
   ],
   "source": [
    "import pandas as pd\n",
    "\n",
    "# File paths for the datasets\n",
    "file_paths = [\n",
    "    \"Tesla_Chassis_Body.csv\",\n",
    "    \"Tesla_e-Powertrain.csv\",\n",
    "    \"Tesla_Electrical.csv\",\n",
    "    \"Tesla_General_smallParts.csv\",\n",
    "    \"Tesla_ICEpowertrain.csv\",\n",
    "    \"Tesla_Interior_Exterior.csv\"\n",
    "]\n",
    "\n",
    "# Load all datasets\n",
    "datasets = [pd.read_csv(file_path) for file_path in file_paths]\n",
    "\n",
    "# Merge all datasets\n",
    "merged_data = pd.concat(datasets, ignore_index=True)\n",
    "\n",
    "# Save the merged dataset to a new CSV file\n",
    "merged_data.to_csv(\"Merged_Tesla_Data.csv\", index=False)\n",
    "\n",
    "print(\"Merged data saved to Merged_Tesla_Data.csv\")"
   ]
  },
  {
   "cell_type": "markdown",
   "id": "d0a0362d",
   "metadata": {},
   "source": [
    "Filtering based on 'Model' of the vehicle"
   ]
  },
  {
   "cell_type": "code",
   "execution_count": 3,
   "id": "27fe2791",
   "metadata": {},
   "outputs": [],
   "source": [
    "#Read the CSV file\n",
    "df_merged = pd.read_csv('Merged_Tesla_Data.csv')\n",
    "\n",
    "#Filter the dataframe to keep only rows where the 'Model' column is 'Model S (USA)'\n",
    "df_filtered = df_merged[df_merged['Model'] == 'Model S (USA)']\n",
    "\n",
    "#Save the filtered dataframe to a new CSV file\n",
    "df_filtered.to_csv('Merged_Tesla_Data_Filtered.csv', index=False)\n"
   ]
  },
  {
   "cell_type": "code",
   "execution_count": null,
   "id": "137ab8ac",
   "metadata": {},
   "outputs": [],
   "source": []
  }
 ],
 "metadata": {
  "kernelspec": {
   "display_name": "Python 3 (ipykernel)",
   "language": "python",
   "name": "python3"
  },
  "language_info": {
   "codemirror_mode": {
    "name": "ipython",
    "version": 3
   },
   "file_extension": ".py",
   "mimetype": "text/x-python",
   "name": "python",
   "nbconvert_exporter": "python",
   "pygments_lexer": "ipython3",
   "version": "3.9.12"
  }
 },
 "nbformat": 4,
 "nbformat_minor": 5
}
