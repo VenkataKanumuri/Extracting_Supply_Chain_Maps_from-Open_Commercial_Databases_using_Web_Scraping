{
 "cells": [
  {
   "cell_type": "markdown",
   "id": "2e365c68",
   "metadata": {},
   "source": [
    "Webscraping using Selenium (website: Marklines)"
   ]
  },
  {
   "cell_type": "code",
   "execution_count": 76,
   "id": "3c3270a0",
   "metadata": {},
   "outputs": [],
   "source": [
    "from selenium import webdriver\n",
    "from selenium.webdriver.common.keys import Keys"
   ]
  },
  {
   "cell_type": "markdown",
   "id": "4c740541",
   "metadata": {},
   "source": [
    "Opening an external Web Browser"
   ]
  },
  {
   "cell_type": "code",
   "execution_count": 77,
   "id": "7df0bc70",
   "metadata": {},
   "outputs": [],
   "source": [
    "driver = webdriver.Chrome()"
   ]
  },
  {
   "cell_type": "code",
   "execution_count": 78,
   "id": "0e0d80c3",
   "metadata": {},
   "outputs": [],
   "source": [
    "driver.get(\"https://www.marklines.com/en/members/login?fromSignUp=true\")"
   ]
  },
  {
   "cell_type": "code",
   "execution_count": 79,
   "id": "adb498bf",
   "metadata": {},
   "outputs": [
    {
     "data": {
      "text/plain": [
       "True"
      ]
     },
     "execution_count": 79,
     "metadata": {},
     "output_type": "execute_result"
    }
   ],
   "source": [
    "from selenium.webdriver.common.by import By\n",
    "from selenium.webdriver.support.ui import WebDriverWait\n",
    "from selenium.webdriver.support import expected_conditions as EC\n",
    "\n",
    "wait = WebDriverWait(driver, 10)\n",
    "username_elem = wait.until(EC.presence_of_element_located((By.ID, \"profiles_login_login_id\"))) # Replace with correct ID\n",
    "password_elem = wait.until(EC.presence_of_element_located((By.ID, \"profiles_login_password\"))) # Replace with correct ID\n",
    "username_elem.send_keys(\"UslBL4iXCJ\") # Actual user\n",
    "password_elem.send_keys(\"pw6a41\") # Actual password\n",
    "password_elem.send_keys(Keys.RETURN) # Click Enter to submit\n",
    "WebDriverWait(driver, 10).until(EC.url_changes(\"url_after_login\")) # Replace with the correct URL\n"
   ]
  },
  {
   "cell_type": "markdown",
   "id": "057ac9dd",
   "metadata": {},
   "source": [
    "Url of the end table, to be scraped"
   ]
  },
  {
   "cell_type": "code",
   "execution_count": 80,
   "id": "a1469f1d",
   "metadata": {},
   "outputs": [],
   "source": [
    "driver.get(\"https://www.marklines.com/en/wsw/refined-search/result?hash_id=571f6406434a866c88d4479d09aa052b2ce3e9b780aa73ce45db5e529d0f235f\")"
   ]
  },
  {
   "cell_type": "markdown",
   "id": "0e280d97",
   "metadata": {},
   "source": [
    "Extracting table by inspecting table tag (tr)"
   ]
  },
  {
   "cell_type": "code",
   "execution_count": 73,
   "id": "fd44162d",
   "metadata": {},
   "outputs": [],
   "source": [
    "table = driver.find_element(By.ID, \"result-table\") # Replace with the correct selector for the table\n",
    "rows = table.find_elements(By.TAG_NAME, \"tr\")"
   ]
  },
  {
   "cell_type": "code",
   "execution_count": 74,
   "id": "8c92c0ff",
   "metadata": {},
   "outputs": [],
   "source": [
    "# Extract header (assuming the first row contains the header)\n",
    "header_row = rows[0]\n",
    "headers = [cell.text for cell in header_row.find_elements(By.TAG_NAME, \"th\")]\n",
    "\n",
    "# Extract data\n",
    "table_data = []\n",
    "for row in rows[1:]: # Skip the header row\n",
    "    cells = row.find_elements(By.TAG_NAME, \"td\")\n",
    "    table_data.append([cell.text for cell in cells])"
   ]
  },
  {
   "cell_type": "code",
   "execution_count": 75,
   "id": "f77ffd72",
   "metadata": {},
   "outputs": [],
   "source": [
    "import csv\n",
    "\n",
    "with open('output.csv', 'w', newline='', encoding='utf-8') as csvfile:\n",
    "    writer = csv.writer(csvfile)\n",
    "    writer.writerow(headers) # Write header\n",
    "    writer.writerows(table_data) # Write data"
   ]
  }
 ],
 "metadata": {
  "kernelspec": {
   "display_name": "Python 3 (ipykernel)",
   "language": "python",
   "name": "python3"
  },
  "language_info": {
   "codemirror_mode": {
    "name": "ipython",
    "version": 3
   },
   "file_extension": ".py",
   "mimetype": "text/x-python",
   "name": "python",
   "nbconvert_exporter": "python",
   "pygments_lexer": "ipython3",
   "version": "3.9.12"
  }
 },
 "nbformat": 4,
 "nbformat_minor": 5
}
